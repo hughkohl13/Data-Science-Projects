{
 "cells": [
  {
   "cell_type": "markdown",
   "metadata": {},
   "source": [
    "### Imports"
   ]
  },
  {
   "cell_type": "code",
   "execution_count": 48,
   "metadata": {},
   "outputs": [],
   "source": [
    "import matplotlib.pyplot as plt\n",
    "import math\n",
    "import pandas_datareader as web\n",
    "import pandas as pd\n",
    "import numpy as np\n",
    "import seaborn as sns\n",
    "import re\n",
    "from sklearn.ensemble import RandomForestClassifier\n",
    "from sklearn.linear_model import LogisticRegression\n",
    "from sklearn.neighbors import KNeighborsClassifier\n",
    "from sklearn.model_selection import train_test_split\n",
    "\n",
    "from sklearn import metrics\n",
    "\n",
    "\n",
    "%matplotlib inline"
   ]
  },
  {
   "cell_type": "markdown",
   "metadata": {},
   "source": [
    "### Read in data"
   ]
  },
  {
   "cell_type": "code",
   "execution_count": 2,
   "metadata": {},
   "outputs": [
    {
     "data": {
      "text/plain": [
       "'/Users/hughkohl/Desktop/data-science-projects/Data-Science-Projects/ds_projects-master/QBR_analysis'"
      ]
     },
     "execution_count": 2,
     "metadata": {},
     "output_type": "execute_result"
    }
   ],
   "source": [
    "pwd"
   ]
  },
  {
   "cell_type": "code",
   "execution_count": 9,
   "metadata": {},
   "outputs": [],
   "source": [
    "df_ent = pd.read_excel('../../../../SnS_QBR_data/Test_Public_List__Renewable_Entitlements__97373__02-07-2020.xlsx', header=9)"
   ]
  },
  {
   "cell_type": "code",
   "execution_count": 9,
   "metadata": {},
   "outputs": [],
   "source": [
    "df_trans = pd.read_excel('../../../../SnS_QBR_data/Test_Public_List__Transaction_History__97373__02-07-2020.xlsx', sheet_name=\"Sales Order History\", header=1)"
   ]
  },
  {
   "cell_type": "markdown",
   "metadata": {},
   "source": [
    "### Data cleaning"
   ]
  },
  {
   "cell_type": "code",
   "execution_count": 10,
   "metadata": {},
   "outputs": [],
   "source": [
    "df_trans.columns = [column.replace(' ', '_') for column in df_trans.columns]"
   ]
  },
  {
   "cell_type": "code",
   "execution_count": 16,
   "metadata": {},
   "outputs": [
    {
     "data": {
      "text/html": [
       "<div>\n",
       "<style scoped>\n",
       "    .dataframe tbody tr th:only-of-type {\n",
       "        vertical-align: middle;\n",
       "    }\n",
       "\n",
       "    .dataframe tbody tr th {\n",
       "        vertical-align: top;\n",
       "    }\n",
       "\n",
       "    .dataframe thead th {\n",
       "        text-align: right;\n",
       "    }\n",
       "</style>\n",
       "<table border=\"1\" class=\"dataframe\">\n",
       "  <thead>\n",
       "    <tr style=\"text-align: right;\">\n",
       "      <th></th>\n",
       "      <th>Original_site_number</th>\n",
       "      <th>Original_part_number</th>\n",
       "      <th>Billed_quantity</th>\n",
       "      <th>Line_item</th>\n",
       "      <th>USD_extended_price</th>\n",
       "    </tr>\n",
       "  </thead>\n",
       "  <tbody>\n",
       "    <tr>\n",
       "      <td>0</td>\n",
       "      <td>3000988</td>\n",
       "      <td>D039ULL</td>\n",
       "      <td>1</td>\n",
       "      <td>30</td>\n",
       "      <td>0.00</td>\n",
       "    </tr>\n",
       "    <tr>\n",
       "      <td>1</td>\n",
       "      <td>3000988</td>\n",
       "      <td>D0J2FLL</td>\n",
       "      <td>1</td>\n",
       "      <td>10</td>\n",
       "      <td>2170.00</td>\n",
       "    </tr>\n",
       "    <tr>\n",
       "      <td>2</td>\n",
       "      <td>3000988</td>\n",
       "      <td>D0J38LL</td>\n",
       "      <td>3</td>\n",
       "      <td>50</td>\n",
       "      <td>3240.00</td>\n",
       "    </tr>\n",
       "    <tr>\n",
       "      <td>3</td>\n",
       "      <td>3000988</td>\n",
       "      <td>E04AVLL</td>\n",
       "      <td>2</td>\n",
       "      <td>20</td>\n",
       "      <td>5280.00</td>\n",
       "    </tr>\n",
       "    <tr>\n",
       "      <td>4</td>\n",
       "      <td>3000988</td>\n",
       "      <td>E0BXILL</td>\n",
       "      <td>4</td>\n",
       "      <td>120</td>\n",
       "      <td>1873.00</td>\n",
       "    </tr>\n",
       "    <tr>\n",
       "      <td>...</td>\n",
       "      <td>...</td>\n",
       "      <td>...</td>\n",
       "      <td>...</td>\n",
       "      <td>...</td>\n",
       "      <td>...</td>\n",
       "    </tr>\n",
       "    <tr>\n",
       "      <td>2055</td>\n",
       "      <td>7937174</td>\n",
       "      <td>E0AUULL</td>\n",
       "      <td>0</td>\n",
       "      <td>700</td>\n",
       "      <td>61064.73</td>\n",
       "    </tr>\n",
       "    <tr>\n",
       "      <td>2056</td>\n",
       "      <td>7937174</td>\n",
       "      <td>E0AVYLL</td>\n",
       "      <td>0</td>\n",
       "      <td>500</td>\n",
       "      <td>25884.16</td>\n",
       "    </tr>\n",
       "    <tr>\n",
       "      <td>2057</td>\n",
       "      <td>7937174</td>\n",
       "      <td>E0AVZLL</td>\n",
       "      <td>0</td>\n",
       "      <td>260</td>\n",
       "      <td>1869.36</td>\n",
       "    </tr>\n",
       "    <tr>\n",
       "      <td>2058</td>\n",
       "      <td>7948723</td>\n",
       "      <td>D0GY8LL</td>\n",
       "      <td>56</td>\n",
       "      <td>20</td>\n",
       "      <td>0.00</td>\n",
       "    </tr>\n",
       "    <tr>\n",
       "      <td>2059</td>\n",
       "      <td>7948723</td>\n",
       "      <td>E0AUTLL</td>\n",
       "      <td>56</td>\n",
       "      <td>20</td>\n",
       "      <td>0.00</td>\n",
       "    </tr>\n",
       "  </tbody>\n",
       "</table>\n",
       "<p>2060 rows × 5 columns</p>\n",
       "</div>"
      ],
      "text/plain": [
       "      Original_site_number Original_part_number  Billed_quantity  Line_item  \\\n",
       "0                  3000988              D039ULL                1         30   \n",
       "1                  3000988              D0J2FLL                1         10   \n",
       "2                  3000988              D0J38LL                3         50   \n",
       "3                  3000988              E04AVLL                2         20   \n",
       "4                  3000988              E0BXILL                4        120   \n",
       "...                    ...                  ...              ...        ...   \n",
       "2055               7937174              E0AUULL                0        700   \n",
       "2056               7937174              E0AVYLL                0        500   \n",
       "2057               7937174              E0AVZLL                0        260   \n",
       "2058               7948723              D0GY8LL               56         20   \n",
       "2059               7948723              E0AUTLL               56         20   \n",
       "\n",
       "      USD_extended_price  \n",
       "0                   0.00  \n",
       "1                2170.00  \n",
       "2                3240.00  \n",
       "3                5280.00  \n",
       "4                1873.00  \n",
       "...                  ...  \n",
       "2055            61064.73  \n",
       "2056            25884.16  \n",
       "2057             1869.36  \n",
       "2058                0.00  \n",
       "2059                0.00  \n",
       "\n",
       "[2060 rows x 5 columns]"
      ]
     },
     "execution_count": 16,
     "metadata": {},
     "output_type": "execute_result"
    }
   ],
   "source": [
    "df_trans.groupby([\"Original_site_number\",\"Original_part_number\"]).sum().reset_index()[['Original_site_number', 'Original_part_number','Billed_quantity', 'Line_item', 'USD_extended_price' ]]"
   ]
  },
  {
   "cell_type": "code",
   "execution_count": 18,
   "metadata": {},
   "outputs": [],
   "source": [
    "pd.set_option('display.max_columns', None)"
   ]
  },
  {
   "cell_type": "markdown",
   "metadata": {},
   "source": [
    "### Feature Engineering & Transformation"
   ]
  },
  {
   "cell_type": "code",
   "execution_count": 20,
   "metadata": {},
   "outputs": [],
   "source": [
    "df_trans['renewed'] = df_trans.End_date - df_trans.Start_date"
   ]
  },
  {
   "cell_type": "code",
   "execution_count": 46,
   "metadata": {},
   "outputs": [],
   "source": [
    "df_trans['renew_time'] = df_trans['renew_time'].dt.days"
   ]
  },
  {
   "cell_type": "code",
   "execution_count": 44,
   "metadata": {},
   "outputs": [],
   "source": [
    "df_trans.loc[df_trans['renew_time'].dt.days > 300, 'renewed'] = 1\n",
    "df_trans.loc[df_trans['renew_time'].dt.days <= 300, 'renewed'] = 0"
   ]
  },
  {
   "cell_type": "code",
   "execution_count": 51,
   "metadata": {},
   "outputs": [],
   "source": [
    "df_prods = pd.get_dummies(df_trans['Original_part_number'], prefix_sep='_', drop_first=True)"
   ]
  },
  {
   "cell_type": "code",
   "execution_count": 65,
   "metadata": {},
   "outputs": [],
   "source": [
    "df_var = df_trans[['renew_time', 'Billed_quantity', 'Line_item', 'USD_extended_price','renewed']]"
   ]
  },
  {
   "cell_type": "code",
   "execution_count": 66,
   "metadata": {},
   "outputs": [],
   "source": [
    "df = pd.concat([df_prods, df_var], axis=1)"
   ]
  },
  {
   "cell_type": "code",
   "execution_count": 74,
   "metadata": {},
   "outputs": [],
   "source": [
    "df.drop('renew_time', axis=1, inplace=True)"
   ]
  },
  {
   "cell_type": "markdown",
   "metadata": {},
   "source": [
    "### Train Test split and model instatiation"
   ]
  },
  {
   "cell_type": "code",
   "execution_count": 75,
   "metadata": {},
   "outputs": [],
   "source": [
    "X = df.iloc[:,:-1]\n",
    "y = df['renewed']"
   ]
  },
  {
   "cell_type": "code",
   "execution_count": 76,
   "metadata": {},
   "outputs": [],
   "source": [
    "# convert selected features do dummies\n",
    "X_train, X_test, y_train, y_test = train_test_split(X, y, test_size=0.30, random_state=42)\n",
    "\n",
    "# instant\n",
    "log_mod = LogisticRegression()\n",
    "knn_mod = KNeighborsClassifier()\n",
    "\n",
    "#fit\n",
    "knn_mod.fit(X_train, y_train)\n",
    "log_mod.fit(X_train,y_train)\n",
    "\n",
    "#preds logistic\n",
    "y_preds = log_mod.predict(X_test)\n",
    "y_probs = log_mod.predict_proba(X_test)\n",
    "\n",
    "#preds knn\n",
    "y_preds_knn = knn_mod.predict(X_test)\n",
    "y_probs_knn = knn_mod.predict_proba(X_test)"
   ]
  },
  {
   "cell_type": "code",
   "execution_count": 77,
   "metadata": {},
   "outputs": [
    {
     "data": {
      "text/plain": [
       "array([1, 1, 1, ..., 1, 1, 1])"
      ]
     },
     "execution_count": 77,
     "metadata": {},
     "output_type": "execute_result"
    }
   ],
   "source": [
    "y_preds_knn"
   ]
  },
  {
   "cell_type": "markdown",
   "metadata": {},
   "source": [
    "### Model Testing"
   ]
  },
  {
   "cell_type": "code",
   "execution_count": 78,
   "metadata": {},
   "outputs": [
    {
     "name": "stdout",
     "output_type": "stream",
     "text": [
      "Logistic Regression Results\n",
      "[[   1  607]\n",
      " [  10 2883]]\n",
      "0.8260744985673353 0.9965433805737989\n",
      "Decision Tree Results\n",
      "[[ 363  245]\n",
      " [ 168 2725]]\n",
      "0.9175084175084175 0.9965433805737989\n",
      "Random Forest Results\n",
      "[[ 297  311]\n",
      " [  85 2808]]\n",
      "0.9002885540237255 0.9965433805737989\n"
     ]
    }
   ],
   "source": [
    "from sklearn.tree import DecisionTreeClassifier\n",
    "from sklearn.ensemble import RandomForestClassifier, GradientBoostingClassifier\n",
    "from sklearn.model_selection import GridSearchCV\n",
    "\n",
    "\n",
    "dt = DecisionTreeClassifier()\n",
    "rf = RandomForestClassifier(n_estimators=1000)\n",
    "\n",
    "dt.fit(X_train, y_train)\n",
    "rf.fit(X_train, y_train)\n",
    "\n",
    "preds_dt = dt.predict(X_test)\n",
    "preds_rf = rf.predict(X_test)\n",
    "\n",
    "print(\"Logistic Regression Results\")\n",
    "print(metrics.confusion_matrix(y_test, y_preds))\n",
    "print(metrics.precision_score(y_test, y_preds) , metrics.recall_score(y_test, y_preds))\n",
    "\n",
    "print(\"Decision Tree Results\")\n",
    "print(metrics.confusion_matrix(y_test, preds_dt))\n",
    "print(metrics.precision_score(y_test, preds_dt) , metrics.recall_score(y_test, y_preds))\n",
    "\n",
    "print(\"Random Forest Results\")\n",
    "print(metrics.confusion_matrix(y_test, preds_rf))\n",
    "print(metrics.precision_score(y_test, preds_rf) , metrics.recall_score(y_test, y_preds))"
   ]
  },
  {
   "cell_type": "code",
   "execution_count": 79,
   "metadata": {},
   "outputs": [
    {
     "data": {
      "text/plain": [
       "GridSearchCV(cv=3, estimator=GradientBoostingClassifier(), n_jobs=-1,\n",
       "             param_grid={'learning_rate': [0.01, 0.025, 0.1, 1],\n",
       "                         'loss': ['deviance'], 'max_depth': [3, 8, 10],\n",
       "                         'max_features': ['sqrt'], 'n_estimators': [10]})"
      ]
     },
     "execution_count": 79,
     "metadata": {},
     "output_type": "execute_result"
    }
   ],
   "source": [
    "gb = GradientBoostingClassifier()\n",
    "\n",
    "parameters = {\n",
    "    \"loss\":[\"deviance\"],\n",
    "    \"learning_rate\": [0.01, 0.025, 0.1, 1],\n",
    "    \"max_depth\":[3, 8 ,10],\n",
    "    \"max_features\":[\"sqrt\"],\n",
    "    \"n_estimators\":[10]\n",
    "    }\n",
    "\n",
    "clf = GridSearchCV(gb, parameters, cv=3, n_jobs=-1)\n",
    "clf.fit(X_train, y_train)"
   ]
  },
  {
   "cell_type": "code",
   "execution_count": 80,
   "metadata": {},
   "outputs": [],
   "source": [
    "gb_preds = clf.best_estimator_.predict(X_test)"
   ]
  },
  {
   "cell_type": "code",
   "execution_count": 81,
   "metadata": {},
   "outputs": [
    {
     "name": "stdout",
     "output_type": "stream",
     "text": [
      "Gradient Boosting Results\n",
      "[[ 149  459]\n",
      " [  92 2801]]\n",
      "0.8592024539877301 0.9681991012789491\n"
     ]
    }
   ],
   "source": [
    "print(\"Gradient Boosting Results\")\n",
    "print(metrics.confusion_matrix(y_test, gb_preds))\n",
    "print(metrics.precision_score(y_test, gb_preds) , metrics.recall_score(y_test, gb_preds))"
   ]
  }
 ],
 "metadata": {
  "kernelspec": {
   "display_name": "Python 3",
   "language": "python",
   "name": "python3"
  },
  "language_info": {
   "codemirror_mode": {
    "name": "ipython",
    "version": 3
   },
   "file_extension": ".py",
   "mimetype": "text/x-python",
   "name": "python",
   "nbconvert_exporter": "python",
   "pygments_lexer": "ipython3",
   "version": "3.7.4"
  }
 },
 "nbformat": 4,
 "nbformat_minor": 2
}
