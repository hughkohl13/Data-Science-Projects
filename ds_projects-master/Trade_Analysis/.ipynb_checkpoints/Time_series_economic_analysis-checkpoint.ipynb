{
 "cells": [
  {
   "cell_type": "code",
   "execution_count": 1,
   "metadata": {},
   "outputs": [],
   "source": [
    "import matplotlib.pyplot as plt\n",
    "import pandas as pd\n",
    "import numpy as np\n",
    "import seaborn as sns\n",
    "\n",
    "%matplotlib inline"
   ]
  },
  {
   "cell_type": "code",
   "execution_count": null,
   "metadata": {},
   "outputs": [],
   "source": []
  },
  {
   "cell_type": "code",
   "execution_count": 126,
   "metadata": {},
   "outputs": [],
   "source": [
    "imp_2018 = pd.read_excel('./data/dataweb-queryExport (2).xlsx', sheet_name=\"General Customs Value\", header=2)\n",
    "imp_2017= pd.read_excel('./data/dataweb-queryExport (3).xlsx', sheet_name=\"General Customs Value\", header=2)\n",
    "imp_2016= pd.read_excel('./data/dataweb-queryExport (4).xlsx', sheet_name=\"General Customs Value\", header=2 )\n",
    "imp_2015= pd.read_excel('./data/dataweb-queryExport (5).xlsx', sheet_name=\"General Customs Value\", header=2)\n",
    "imp_2014= pd.read_excel('./data/dataweb-queryExport (6).xlsx', sheet_name=\"General Customs Value\", header=2)\n",
    "imp_2013= pd.read_excel('./data/dataweb-queryExport (7).xlsx', sheet_name=\"General Customs Value\", header=2)\n",
    "imp_2012= pd.read_excel('./data/dataweb-queryExport (8).xlsx', sheet_name=\"General Customs Value\", header=2)\n",
    "imp_2011= pd.read_excel('./data/dataweb-queryExport (9).xlsx', sheet_name=\"General Customs Value\", header=2)\n",
    "imp_2010= pd.read_excel('./data/dataweb-queryExport (10).xlsx', sheet_name=\"General Customs Value\", header=2)"
   ]
  },
  {
   "cell_type": "code",
   "execution_count": 127,
   "metadata": {},
   "outputs": [],
   "source": [
    "imp_all = (imp_2018, imp_2017, imp_2016, imp_2015, imp_2014, imp_2013, imp_2012, imp_2011, imp_2010)"
   ]
  },
  {
   "cell_type": "code",
   "execution_count": 134,
   "metadata": {},
   "outputs": [],
   "source": [
    "for imp in imp_all:\n",
    "    imp.columns = ['Data Type', 'Country', 'GCV']\n",
    "    imp['Year'] = 2018"
   ]
  },
  {
   "cell_type": "code",
   "execution_count": 137,
   "metadata": {},
   "outputs": [],
   "source": [
    "imp_2017['Year'] = 2017\n",
    "imp_2016['Year'] = 2016\n",
    "imp_2015['Year'] = 2015\n",
    "imp_2014['Year'] = 2014\n",
    "imp_2013['Year'] = 2013\n",
    "imp_2012['Year'] = 2012\n",
    "imp_2011['Year'] = 2011\n",
    "imp_2010['Year'] = 2010"
   ]
  },
  {
   "cell_type": "code",
   "execution_count": 149,
   "metadata": {},
   "outputs": [],
   "source": [
    "imp_pd = imp_2018"
   ]
  },
  {
   "cell_type": "code",
   "execution_count": 159,
   "metadata": {},
   "outputs": [
    {
     "data": {
      "text/plain": [
       "(234, 4)"
      ]
     },
     "execution_count": 159,
     "metadata": {},
     "output_type": "execute_result"
    }
   ],
   "source": [
    "imp_pd.shape"
   ]
  },
  {
   "cell_type": "code",
   "execution_count": 160,
   "metadata": {},
   "outputs": [],
   "source": [
    "for imp in imp_all:\n",
    "    imp_pd = imp_pd.append(imp)"
   ]
  },
  {
   "cell_type": "code",
   "execution_count": null,
   "metadata": {},
   "outputs": [],
   "source": [
    "imp_pd.reset_index()\n",
    "imp_pd.drop('index', axis=1, inplace=True)"
   ]
  },
  {
   "cell_type": "code",
   "execution_count": 181,
   "metadata": {},
   "outputs": [
    {
     "data": {
      "text/html": [
       "<div>\n",
       "<style scoped>\n",
       "    .dataframe tbody tr th:only-of-type {\n",
       "        vertical-align: middle;\n",
       "    }\n",
       "\n",
       "    .dataframe tbody tr th {\n",
       "        vertical-align: top;\n",
       "    }\n",
       "\n",
       "    .dataframe thead th {\n",
       "        text-align: right;\n",
       "    }\n",
       "</style>\n",
       "<table border=\"1\" class=\"dataframe\">\n",
       "  <thead>\n",
       "    <tr style=\"text-align: right;\">\n",
       "      <th></th>\n",
       "      <th>Data Type</th>\n",
       "      <th>Country</th>\n",
       "      <th>GCV</th>\n",
       "      <th>Year</th>\n",
       "    </tr>\n",
       "  </thead>\n",
       "  <tbody>\n",
       "    <tr>\n",
       "      <td>0</td>\n",
       "      <td>General Customs Value</td>\n",
       "      <td>Afghanistan</td>\n",
       "      <td>28589448</td>\n",
       "      <td>2018</td>\n",
       "    </tr>\n",
       "    <tr>\n",
       "      <td>1</td>\n",
       "      <td>General Customs Value</td>\n",
       "      <td>Albania</td>\n",
       "      <td>68001954</td>\n",
       "      <td>2018</td>\n",
       "    </tr>\n",
       "    <tr>\n",
       "      <td>2</td>\n",
       "      <td>General Customs Value</td>\n",
       "      <td>Algeria</td>\n",
       "      <td>4618353159</td>\n",
       "      <td>2018</td>\n",
       "    </tr>\n",
       "    <tr>\n",
       "      <td>3</td>\n",
       "      <td>General Customs Value</td>\n",
       "      <td>Andorra</td>\n",
       "      <td>16016849</td>\n",
       "      <td>2018</td>\n",
       "    </tr>\n",
       "    <tr>\n",
       "      <td>4</td>\n",
       "      <td>General Customs Value</td>\n",
       "      <td>Angola</td>\n",
       "      <td>2698475968</td>\n",
       "      <td>2018</td>\n",
       "    </tr>\n",
       "  </tbody>\n",
       "</table>\n",
       "</div>"
      ],
      "text/plain": [
       "               Data Type      Country         GCV  Year\n",
       "0  General Customs Value  Afghanistan    28589448  2018\n",
       "1  General Customs Value      Albania    68001954  2018\n",
       "2  General Customs Value      Algeria  4618353159  2018\n",
       "3  General Customs Value      Andorra    16016849  2018\n",
       "4  General Customs Value       Angola  2698475968  2018"
      ]
     },
     "execution_count": 181,
     "metadata": {},
     "output_type": "execute_result"
    }
   ],
   "source": [
    "imp_pd.head()"
   ]
  },
  {
   "cell_type": "code",
   "execution_count": 182,
   "metadata": {},
   "outputs": [],
   "source": [
    "imp_pd = imp_pd[imp_pd[\"Data Type\"] != \"Total:\"]"
   ]
  },
  {
   "cell_type": "code",
   "execution_count": 183,
   "metadata": {},
   "outputs": [
    {
     "data": {
      "text/html": [
       "<div>\n",
       "<style scoped>\n",
       "    .dataframe tbody tr th:only-of-type {\n",
       "        vertical-align: middle;\n",
       "    }\n",
       "\n",
       "    .dataframe tbody tr th {\n",
       "        vertical-align: top;\n",
       "    }\n",
       "\n",
       "    .dataframe thead th {\n",
       "        text-align: right;\n",
       "    }\n",
       "</style>\n",
       "<table border=\"1\" class=\"dataframe\">\n",
       "  <thead>\n",
       "    <tr style=\"text-align: right;\">\n",
       "      <th></th>\n",
       "      <th>Data Type</th>\n",
       "      <th>Country</th>\n",
       "      <th>GCV</th>\n",
       "      <th>Year</th>\n",
       "    </tr>\n",
       "  </thead>\n",
       "  <tbody>\n",
       "    <tr>\n",
       "      <td>0</td>\n",
       "      <td>General Customs Value</td>\n",
       "      <td>Afghanistan</td>\n",
       "      <td>28589448</td>\n",
       "      <td>2018</td>\n",
       "    </tr>\n",
       "    <tr>\n",
       "      <td>1</td>\n",
       "      <td>General Customs Value</td>\n",
       "      <td>Albania</td>\n",
       "      <td>68001954</td>\n",
       "      <td>2018</td>\n",
       "    </tr>\n",
       "    <tr>\n",
       "      <td>2</td>\n",
       "      <td>General Customs Value</td>\n",
       "      <td>Algeria</td>\n",
       "      <td>4618353159</td>\n",
       "      <td>2018</td>\n",
       "    </tr>\n",
       "    <tr>\n",
       "      <td>3</td>\n",
       "      <td>General Customs Value</td>\n",
       "      <td>Andorra</td>\n",
       "      <td>16016849</td>\n",
       "      <td>2018</td>\n",
       "    </tr>\n",
       "    <tr>\n",
       "      <td>4</td>\n",
       "      <td>General Customs Value</td>\n",
       "      <td>Angola</td>\n",
       "      <td>2698475968</td>\n",
       "      <td>2018</td>\n",
       "    </tr>\n",
       "  </tbody>\n",
       "</table>\n",
       "</div>"
      ],
      "text/plain": [
       "               Data Type      Country         GCV  Year\n",
       "0  General Customs Value  Afghanistan    28589448  2018\n",
       "1  General Customs Value      Albania    68001954  2018\n",
       "2  General Customs Value      Algeria  4618353159  2018\n",
       "3  General Customs Value      Andorra    16016849  2018\n",
       "4  General Customs Value       Angola  2698475968  2018"
      ]
     },
     "execution_count": 183,
     "metadata": {},
     "output_type": "execute_result"
    }
   ],
   "source": [
    "imp_pd.head()"
   ]
  },
  {
   "cell_type": "code",
   "execution_count": 190,
   "metadata": {},
   "outputs": [
    {
     "data": {
      "text/html": [
       "<div>\n",
       "<style scoped>\n",
       "    .dataframe tbody tr th:only-of-type {\n",
       "        vertical-align: middle;\n",
       "    }\n",
       "\n",
       "    .dataframe tbody tr th {\n",
       "        vertical-align: top;\n",
       "    }\n",
       "\n",
       "    .dataframe thead th {\n",
       "        text-align: right;\n",
       "    }\n",
       "</style>\n",
       "<table border=\"1\" class=\"dataframe\">\n",
       "  <thead>\n",
       "    <tr style=\"text-align: right;\">\n",
       "      <th></th>\n",
       "      <th>Data Type</th>\n",
       "      <th>Country</th>\n",
       "      <th>GCV</th>\n",
       "      <th>Year</th>\n",
       "    </tr>\n",
       "  </thead>\n",
       "  <tbody>\n",
       "    <tr>\n",
       "      <td>175</td>\n",
       "      <td>General Customs Value</td>\n",
       "      <td>Saudi Arabia</td>\n",
       "      <td>22083194415</td>\n",
       "      <td>2015</td>\n",
       "    </tr>\n",
       "    <tr>\n",
       "      <td>103</td>\n",
       "      <td>General Customs Value</td>\n",
       "      <td>Israel</td>\n",
       "      <td>22131110384</td>\n",
       "      <td>2012</td>\n",
       "    </tr>\n",
       "    <tr>\n",
       "      <td>102</td>\n",
       "      <td>General Customs Value</td>\n",
       "      <td>Israel</td>\n",
       "      <td>22203058707</td>\n",
       "      <td>2016</td>\n",
       "    </tr>\n",
       "    <tr>\n",
       "      <td>147</td>\n",
       "      <td>General Customs Value</td>\n",
       "      <td>Netherlands</td>\n",
       "      <td>22259597393</td>\n",
       "      <td>2012</td>\n",
       "    </tr>\n",
       "    <tr>\n",
       "      <td>204</td>\n",
       "      <td>General Customs Value</td>\n",
       "      <td>Thailand</td>\n",
       "      <td>22693580280</td>\n",
       "      <td>2010</td>\n",
       "    </tr>\n",
       "    <tr>\n",
       "      <td>...</td>\n",
       "      <td>...</td>\n",
       "      <td>...</td>\n",
       "      <td>...</td>\n",
       "      <td>...</td>\n",
       "    </tr>\n",
       "    <tr>\n",
       "      <td>42</td>\n",
       "      <td>General Customs Value</td>\n",
       "      <td>China</td>\n",
       "      <td>468474894856</td>\n",
       "      <td>2014</td>\n",
       "    </tr>\n",
       "    <tr>\n",
       "      <td>42</td>\n",
       "      <td>General Customs Value</td>\n",
       "      <td>China</td>\n",
       "      <td>483201655364</td>\n",
       "      <td>2015</td>\n",
       "    </tr>\n",
       "    <tr>\n",
       "      <td>42</td>\n",
       "      <td>General Customs Value</td>\n",
       "      <td>China</td>\n",
       "      <td>505220233332</td>\n",
       "      <td>2017</td>\n",
       "    </tr>\n",
       "    <tr>\n",
       "      <td>42</td>\n",
       "      <td>General Customs Value</td>\n",
       "      <td>China</td>\n",
       "      <td>539675590832</td>\n",
       "      <td>2018</td>\n",
       "    </tr>\n",
       "    <tr>\n",
       "      <td>42</td>\n",
       "      <td>General Customs Value</td>\n",
       "      <td>China</td>\n",
       "      <td>539675590832</td>\n",
       "      <td>2018</td>\n",
       "    </tr>\n",
       "  </tbody>\n",
       "</table>\n",
       "<p>200 rows × 4 columns</p>\n",
       "</div>"
      ],
      "text/plain": [
       "                 Data Type       Country           GCV  Year\n",
       "175  General Customs Value  Saudi Arabia   22083194415  2015\n",
       "103  General Customs Value        Israel   22131110384  2012\n",
       "102  General Customs Value        Israel   22203058707  2016\n",
       "147  General Customs Value   Netherlands   22259597393  2012\n",
       "204  General Customs Value      Thailand   22693580280  2010\n",
       "..                     ...           ...           ...   ...\n",
       "42   General Customs Value         China  468474894856  2014\n",
       "42   General Customs Value         China  483201655364  2015\n",
       "42   General Customs Value         China  505220233332  2017\n",
       "42   General Customs Value         China  539675590832  2018\n",
       "42   General Customs Value         China  539675590832  2018\n",
       "\n",
       "[200 rows x 4 columns]"
      ]
     },
     "execution_count": 190,
     "metadata": {},
     "output_type": "execute_result"
    }
   ],
   "source": [
    "imp_pd.sort_values('GCV').tail(200)"
   ]
  },
  {
   "cell_type": "code",
   "execution_count": 197,
   "metadata": {},
   "outputs": [
    {
     "data": {
      "text/plain": [
       "<matplotlib.axes._subplots.AxesSubplot at 0x12ee15350>"
      ]
     },
     "execution_count": 197,
     "metadata": {},
     "output_type": "execute_result"
    },
    {
     "data": {
      "image/png": "[encoded data removed]",
      "text/plain": [
       "<Figure size 1440x1080 with 1 Axes>"
      ]
     },
     "metadata": {
      "needs_background": "light"
     },
     "output_type": "display_data"
    }
   ],
   "source": [
    "plt.figure(figsize=(20,15))\n",
    "sns.color_palette(\"Paired\")\n",
    "sns.lineplot(data=imp_pd.sort_values('GCV').tail(100), x='Year', y='GCV', hue='Country')"
   ]
  },
  {
   "cell_type": "code",
   "execution_count": null,
   "metadata": {},
   "outputs": [],
   "source": []
  }
 ],
 "metadata": {
  "kernelspec": {
   "display_name": "Python 3",
   "language": "python",
   "name": "python3"
  },
  "language_info": {
   "codemirror_mode": {
    "name": "ipython",
    "version": 3
   },
   "file_extension": ".py",
   "mimetype": "text/x-python",
   "name": "python",
   "nbconvert_exporter": "python",
   "pygments_lexer": "ipython3",
   "version": "3.7.4"
  }
 },
 "nbformat": 4,
 "nbformat_minor": 2
}
