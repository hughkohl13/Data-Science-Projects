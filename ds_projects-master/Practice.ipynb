{
 "cells": [
  {
   "cell_type": "markdown",
   "metadata": {},
   "source": [
    "### Pig Latin\n",
    "\n",
    "Move the first letter of each word to the end of it, then add \"ay\" to the end of the word. Leave punctuation marks untouched\n",
    "\n",
    "pig_it('Pig latin is cool') # igPay atinlay siay oolcay\n",
    "pig_it('Hello world !')     # elloHay orldway !"
   ]
  },
  {
   "cell_type": "code",
   "execution_count": 36,
   "metadata": {},
   "outputs": [
    {
     "data": {
      "text/plain": [
       "'lphabetaay oupsay siay reaay !'"
      ]
     },
     "execution_count": 36,
     "metadata": {},
     "output_type": "execute_result"
    }
   ],
   "source": [
    "def pig_it(text):\n",
    "    word_list = text.split()\n",
    "    words = list()\n",
    "    ignore_list = ('?','!','.')\n",
    "    for word in word_list:\n",
    "        if word[-1] in ignore_list[::]:\n",
    "            words.append(word[1:-2:] + 'ay' + ' ' + word[-1])\n",
    "        else:\n",
    "            words.append(word[1::] + word[0] + 'ay')\n",
    "    return (' ').join(words)\n",
    "\n",
    "pig_it('alphabet soup is great!')"
   ]
  },
  {
   "cell_type": "markdown",
   "metadata": {},
   "source": [
    "### Name Hash\n",
    "\n",
    "Given: an array containing hashes of names\n",
    "\n",
    "Return: a string formatted as a list of names separated by commas except for the last two names, which should be separated by an ampersand.\n",
    "\n",
    "Example:\n",
    "\n",
    "namelist([ {'name': 'Bart'}, {'name': 'Lisa'}, {'name': 'Maggie'} ])\n",
    "returns 'Bart, Lisa & Maggie'\n",
    "\n",
    "namelist([ {'name': 'Bart'}, {'name': 'Lisa'} ])\n",
    "returns 'Bart & Lisa'\n",
    "\n",
    "namelist([ {'name': 'Bart'} ])\n",
    "returns 'Bart'\n",
    "\n",
    "namelist([])\n",
    "returns ''"
   ]
  },
  {
   "cell_type": "code",
   "execution_count": 109,
   "metadata": {},
   "outputs": [
    {
     "name": "stdout",
     "output_type": "stream",
     "text": [
      "Bart & Lisa\n"
     ]
    }
   ],
   "source": [
    "names = [ {'name': 'Bart'}, {'name': 'Lisa'} ]\n",
    "\n",
    "def namelist(names):\n",
    "    \n",
    "    comp_list = list()\n",
    "    comp_str = list()\n",
    "                \n",
    "    for name in names:\n",
    "        if len(names) == 0:\n",
    "            comp_final = ''\n",
    "            print(comp_final)\n",
    "        if len(names) > 1:\n",
    "            if name == names[-1]:\n",
    "                comp_str.append(' & ' + name['name'])\n",
    "            else:\n",
    "                comp_list.append(name['name'])\n",
    "        else:\n",
    "            comp_final = name['name']\n",
    "            print(comp_final)\n",
    "        \n",
    "    comp_list2 = ', '.join(comp_list)\n",
    "    comp_str2 = ''.join(comp_str)\n",
    "    comp_final = comp_list2 + comp_str2\n",
    "    print(comp_final)\n",
    "    \n",
    "namelist(names)"
   ]
  },
  {
   "cell_type": "markdown",
   "metadata": {},
   "source": [
    "Improved version from CodeWars"
   ]
  },
  {
   "cell_type": "code",
   "execution_count": 114,
   "metadata": {},
   "outputs": [],
   "source": [
    "names = [ {'name': 'Bart'}, {'name': 'Lisa'} ]\n",
    "\n",
    "def namelist(names):\n",
    "    namelist =  [name['name'] for name in names]\n",
    "    if len(namelist) <= 1:\n",
    "        return ''.join(namelist)\n",
    "    else:\n",
    "        lastTwo = ' & '.join(namelist[-2:])\n",
    "        first = [n + ',' for n in namelist[:-2]]\n",
    "        first.append(lastTwo)\n",
    "        return ' '.join(first)"
   ]
  },
  {
   "cell_type": "markdown",
   "metadata": {},
   "source": [
    "### Odd Integer\n",
    "\n",
    "Given an array, find the integer that appears an odd number of times.\n",
    "\n",
    "There will always be only one integer that appears an odd number of times."
   ]
  },
  {
   "cell_type": "code",
   "execution_count": 35,
   "metadata": {},
   "outputs": [
    {
     "name": "stdout",
     "output_type": "stream",
     "text": [
      "1\n"
     ]
    }
   ],
   "source": [
    "# test_ = [20,1,-1,2,-2,3,3,5,5,1,2,4,20,4,-1,-2,5]\n",
    "# test_ = [1,1,2,-2,5,2,4,4,-1,-2,5] \n",
    "# test_ = [20,1,1,2,2,3,3,5,5,4,20,4,5]\n",
    "# test_ = [10]\n",
    "# test_ = [1,1,1,1,1,1,10,1,1,1,1]\n",
    "# test_ = [5,4,3,2,1,5,4,3,2,10,10]\n",
    "\n",
    "from collections import Counter\n",
    "# create list of unique values \n",
    "# append count of that val / 2\n",
    "\n",
    "def find_it(seq):\n",
    "    val_count = (Counter(seq))\n",
    "    for i, val in val_count.items():\n",
    "        if val%2 == 1:\n",
    "            print(i)\n",
    "\n",
    "find_it(test_)"
   ]
  },
  {
   "cell_type": "markdown",
   "metadata": {},
   "source": [
    "### Gibberish Shuffle\n",
    "\n",
    "ROT13 is a simple letter substitution cipher that replaces a letter with the letter 13 letters after it in the alphabet. ROT13 is an example of the Caesar cipher.\n",
    "\n",
    "Create a function that takes a string and returns the string ciphered with Rot13. If there are numbers or special characters included in the string, they should be returned as they are. Only letters from the latin/english alphabet should be shifted, like in the original Rot13 \"implementation\".\n",
    "\n",
    "Please note that using encode is considered cheating."
   ]
  },
  {
   "cell_type": "code",
   "execution_count": 40,
   "metadata": {},
   "outputs": [
    {
     "data": {
      "text/plain": [
       "'Grfg frdhrapr'"
      ]
     },
     "execution_count": 40,
     "metadata": {},
     "output_type": "execute_result"
    }
   ],
   "source": [
    "# import string\n",
    "# string.ascii_lowercase.index('b')\n",
    "# test - grfg\n",
    "test_1 = 'test'\n",
    "test_2 = 'Test'\n",
    "test_3 = 'Test sequence'\n",
    "\n",
    "def rot13(message):\n",
    "    nw_string = ''\n",
    "    alph = 'abcdefghijklmnopqrstuvwxyz'\n",
    "    alph2 = alph + alph\n",
    "    Calph = alph2.upper()\n",
    "    for lett in message:\n",
    "        if lett in alph2:\n",
    "            nw_string += alph2[alph2.index(lett)+13]\n",
    "        elif lett in Calph:\n",
    "             nw_string += Calph[Calph.index(lett)+13]\n",
    "        else:\n",
    "            nw_string += lett\n",
    "    return nw_string\n",
    "\n",
    "rot13(test_3)"
   ]
  },
  {
   "cell_type": "markdown",
   "metadata": {},
   "source": [
    "### Array.diff\n",
    "\n",
    "Your goal in this kata is to implement a difference function, which subtracts one list from another and returns the result.\n",
    "\n",
    "It should remove all values from list a, which are present in list b.\n",
    "\n",
    "array_diff([1,2],[1]) == [2]\n",
    "If a value is present in b, all of its occurrences must be removed from the other:\n",
    "\n",
    "array_diff([1,2,2,2,3],[2]) == [1,3]"
   ]
  },
  {
   "cell_type": "code",
   "execution_count": 8,
   "metadata": {},
   "outputs": [
    {
     "data": {
      "text/plain": [
       "[1]"
      ]
     },
     "execution_count": 8,
     "metadata": {},
     "output_type": "execute_result"
    }
   ],
   "source": [
    "d = [1,2,2]\n",
    "e = [2]\n",
    "\n",
    "def array_diff(a, b):\n",
    "    c = []\n",
    "    for i in a:\n",
    "        if i not in b:\n",
    "            c.append(i)\n",
    "    return c\n",
    "\n",
    "array_diff(d,e)"
   ]
  },
  {
   "cell_type": "markdown",
   "metadata": {},
   "source": [
    "### Find the unique number\n",
    "\n",
    "There is an array with some numbers. All numbers are equal except for one. Try to find it!\n",
    "\n",
    "find_uniq([ 1, 1, 1, 2, 1, 1 ]) == 2\n",
    "find_uniq([ 0, 0, 0.55, 0, 0 ]) == 0.55\n",
    "It’s guaranteed that array contains at least 3 numbers.\n",
    "\n",
    "The tests contain some very huge arrays, so think about performance.\n",
    "\n",
    "This is the first kata in series:"
   ]
  },
  {
   "cell_type": "code",
   "execution_count": null,
   "metadata": {},
   "outputs": [],
   "source": [
    "test = [1, 1, 1, 2, 1, 1]\n",
    "\n",
    "def find_uniq(arr):\n",
    "    \n",
    "    \n",
    "    return n   # n: unique integer in the array"
   ]
  }
 ],
 "metadata": {
  "kernelspec": {
   "display_name": "Python 3",
   "language": "python",
   "name": "python3"
  },
  "language_info": {
   "codemirror_mode": {
    "name": "ipython",
    "version": 3
   },
   "file_extension": ".py",
   "mimetype": "text/x-python",
   "name": "python",
   "nbconvert_exporter": "python",
   "pygments_lexer": "ipython3",
   "version": "3.7.4"
  }
 },
 "nbformat": 4,
 "nbformat_minor": 2
}
