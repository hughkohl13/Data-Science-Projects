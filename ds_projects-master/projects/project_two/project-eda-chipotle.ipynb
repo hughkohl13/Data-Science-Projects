{
 "cells": [
  {
   "cell_type": "markdown",
   "metadata": {},
   "source": [
    "<img src=\"http://imgur.com/1ZcRyrc.png\" style=\"float: left; margin: 20px; height: 55px\">\n",
    "\n",
    "# Project 2: Analyzing Chipotle Data\n",
    "\n",
    "_Author: Joseph Nelson (DC)_\n",
    "\n",
    "---"
   ]
  },
  {
   "cell_type": "markdown",
   "metadata": {},
   "source": [
    "For Project 2, you will complete a series of exercises exploring [order data from Chipotle](https://github.com/TheUpshot/chipotle), compliments of _The New York Times'_ \"The Upshot.\"\n",
    "\n",
    "For these exercises, you will conduct basic exploratory data analysis (Pandas not required) to understand the essentials of Chipotle's order data: how many orders are being made, the average price per order, how many different ingredients are used, etc. These allow you to practice business analysis skills while also becoming comfortable with Python."
   ]
  },
  {
   "cell_type": "markdown",
   "metadata": {},
   "source": [
    "---\n",
    "\n",
    "## Basic Level"
   ]
  },
  {
   "cell_type": "markdown",
   "metadata": {},
   "source": [
    "### Part 1: Read in the file with `csv.reader()` and store it in an object called `file_nested_list`.\n",
    "\n",
    "Hint: This is a TSV (tab-separated value) file, and `csv.reader()` needs to be told [how to handle it](https://docs.python.org/2/library/csv.html)."
   ]
  },
  {
   "cell_type": "code",
   "execution_count": 97,
   "metadata": {},
   "outputs": [
    {
     "data": {
      "text/plain": [
       "['order_id', 'quantity', 'item_name', 'choice_description', 'item_price']"
      ]
     },
     "execution_count": 97,
     "metadata": {},
     "output_type": "execute_result"
    }
   ],
   "source": [
    "import csv\n",
    "import pandas as pd\n",
    "from collections import namedtuple   # Convenient to store the data rows\n",
    "\n",
    "DATA_FILE = './data/chipotle.tsv'\n",
    "\n",
    "file_nested_list = list()\n",
    "\n",
    "with open(DATA_FILE, newline='') as csvfile:\n",
    "    tsv_file = csv.reader(csvfile, delimiter=\"\\t\")\n",
    "    for row in tsv_file:\n",
    "        file_nested_list.append(row)\n",
    "\n",
    "file_nested_list[0]"
   ]
  },
  {
   "cell_type": "markdown",
   "metadata": {},
   "source": [
    "### Part 2: Separate `file_nested_list` into the `header` and the `data`.\n"
   ]
  },
  {
   "cell_type": "code",
   "execution_count": 98,
   "metadata": {},
   "outputs": [
    {
     "data": {
      "text/plain": [
       "['order_id', 'quantity', 'item_name', 'choice_description', 'item_price']"
      ]
     },
     "execution_count": 98,
     "metadata": {},
     "output_type": "execute_result"
    }
   ],
   "source": [
    "header = file_nested_list[0]\n",
    "file_nested_list.pop(0)"
   ]
  },
  {
   "cell_type": "code",
   "execution_count": 99,
   "metadata": {},
   "outputs": [
    {
     "data": {
      "text/plain": [
       "[['1', '1', 'Chips and Fresh Tomato Salsa', 'NULL', '$2.39 '],\n",
       " ['1', '1', 'Izze', '[Clementine]', '$3.39 '],\n",
       " ['1', '1', 'Nantucket Nectar', '[Apple]', '$3.39 '],\n",
       " ['1', '1', 'Chips and Tomatillo-Green Chili Salsa', 'NULL', '$2.39 '],\n",
       " ['2',\n",
       "  '2',\n",
       "  'Chicken Bowl',\n",
       "  '[Tomatillo-Red Chili Salsa (Hot), [Black Beans, Rice, Cheese, Sour Cream]]',\n",
       "  '$16.98 ']]"
      ]
     },
     "execution_count": 99,
     "metadata": {},
     "output_type": "execute_result"
    }
   ],
   "source": [
    "data = file_nested_list\n",
    "data[:5]"
   ]
  },
  {
   "cell_type": "markdown",
   "metadata": {},
   "source": [
    "---\n",
    "\n",
    "## Intermediate Level"
   ]
  },
  {
   "cell_type": "markdown",
   "metadata": {},
   "source": [
    "### Part 3: Calculate the average price of an order.\n",
    "\n",
    "Hint: Examine the data to see if the `quantity` column is relevant to this calculation.\n",
    "\n",
    "Hint: Think carefully about the simplest way to do this!"
   ]
  },
  {
   "cell_type": "code",
   "execution_count": 104,
   "metadata": {},
   "outputs": [],
   "source": [
    "# CONVERT STRINGS TO INTS\n",
    "def convt_nums(dat):\n",
    "    for val in dat:\n",
    "        val[1] = int(val[1])\n",
    "        val[0] = int(val[0])\n",
    "        val[-1] = float(val[-1].replace('$',''))\n",
    "\n",
    "convt_nums(data)"
   ]
  },
  {
   "cell_type": "code",
   "execution_count": 106,
   "metadata": {},
   "outputs": [
    {
     "data": {
      "text/plain": [
       "6.938889782783681"
      ]
     },
     "execution_count": 106,
     "metadata": {},
     "output_type": "execute_result"
    }
   ],
   "source": [
    "def sum_price(dat):\n",
    "    price_tots = 0\n",
    "    for val in dat:\n",
    "        price_tots += val[-1]\n",
    "    return price_tots\n",
    "\n",
    "\n",
    "def sum_quant(dat):\n",
    "    sum_tots = 0\n",
    "    for val in dat:\n",
    "        sum_tots += val[1]\n",
    "    return sum_tots\n",
    "\n",
    "price_order = sum_price(data) / sum_quant(data)\n",
    "price_order"
   ]
  },
  {
   "cell_type": "code",
   "execution_count": null,
   "metadata": {
    "collapsed": true
   },
   "outputs": [],
   "source": []
  },
  {
   "cell_type": "markdown",
   "metadata": {},
   "source": [
    "### Part 4: Create a list (or set) named `unique_sodas` containing all of unique sodas and soft drinks that Chipotle sells.\n",
    "\n",
    "Note: Just look for `'Canned Soda'` and `'Canned Soft Drink'`, and ignore other drinks like `'Izze'`."
   ]
  },
  {
   "cell_type": "code",
   "execution_count": 118,
   "metadata": {},
   "outputs": [
    {
     "data": {
      "text/plain": [
       "['[Sprite]',\n",
       " '[Dr. Pepper]',\n",
       " '[Mountain Dew]',\n",
       " '[Sprite]',\n",
       " '[Dr. Pepper]',\n",
       " '[Diet Dr. Pepper]',\n",
       " '[Coca Cola]',\n",
       " '[Diet Coke]',\n",
       " '[Diet Dr. Pepper]',\n",
       " '[Coca Cola]',\n",
       " '[Dr. Pepper]',\n",
       " '[Coca Cola]',\n",
       " '[Diet Coke]',\n",
       " '[Mountain Dew]',\n",
       " '[Mountain Dew]',\n",
       " '[Dr. Pepper]',\n",
       " '[Mountain Dew]',\n",
       " '[Diet Dr. Pepper]',\n",
       " '[Mountain Dew]',\n",
       " '[Coke]',\n",
       " '[Coca Cola]',\n",
       " '[Sprite]',\n",
       " '[Diet Coke]',\n",
       " '[Coke]',\n",
       " '[Coke]',\n",
       " '[Lemonade]',\n",
       " '[Sprite]',\n",
       " '[Diet Coke]',\n",
       " '[Coca Cola]',\n",
       " '[Diet Coke]',\n",
       " '[Diet Coke]',\n",
       " '[Mountain Dew]',\n",
       " '[Coke]',\n",
       " '[Coke]',\n",
       " '[Coke]',\n",
       " '[Sprite]',\n",
       " '[Coke]',\n",
       " '[Coke]',\n",
       " '[Dr. Pepper]',\n",
       " '[Coca Cola]',\n",
       " '[Dr. Pepper]',\n",
       " '[Coke]',\n",
       " '[Diet Dr. Pepper]',\n",
       " '[Diet Coke]',\n",
       " '[Lemonade]',\n",
       " '[Coke]',\n",
       " '[Diet Coke]',\n",
       " '[Diet Coke]',\n",
       " '[Diet Coke]',\n",
       " '[Diet Coke]',\n",
       " '[Nestea]',\n",
       " '[Diet Coke]',\n",
       " '[Dr. Pepper]',\n",
       " '[Coke]',\n",
       " '[Sprite]',\n",
       " '[Coke]',\n",
       " '[Lemonade]',\n",
       " '[Coke]',\n",
       " '[Coke]',\n",
       " '[Diet Coke]',\n",
       " '[Diet Coke]',\n",
       " '[Coca Cola]',\n",
       " '[Coca Cola]',\n",
       " '[Lemonade]',\n",
       " '[Lemonade]',\n",
       " '[Diet Coke]',\n",
       " '[Coke]',\n",
       " '[Sprite]',\n",
       " '[Coke]',\n",
       " '[Sprite]',\n",
       " '[Coke]',\n",
       " '[Sprite]',\n",
       " '[Diet Coke]',\n",
       " '[Nestea]',\n",
       " '[Lemonade]',\n",
       " '[Diet Coke]',\n",
       " '[Coke]',\n",
       " '[Mountain Dew]',\n",
       " '[Coca Cola]',\n",
       " '[Sprite]',\n",
       " '[Coke]',\n",
       " '[Diet Coke]',\n",
       " '[Sprite]',\n",
       " '[Diet Coke]',\n",
       " '[Coke]',\n",
       " '[Mountain Dew]',\n",
       " '[Lemonade]',\n",
       " '[Lemonade]',\n",
       " '[Coca Cola]',\n",
       " '[Sprite]',\n",
       " '[Diet Coke]',\n",
       " '[Coke]',\n",
       " '[Diet Coke]',\n",
       " '[Diet Coke]',\n",
       " '[Coke]',\n",
       " '[Diet Coke]',\n",
       " '[Coke]',\n",
       " '[Diet Dr. Pepper]',\n",
       " '[Coke]',\n",
       " '[Diet Coke]',\n",
       " '[Sprite]',\n",
       " '[Mountain Dew]',\n",
       " '[Diet Coke]',\n",
       " '[Coke]',\n",
       " '[Diet Coke]',\n",
       " '[Dr. Pepper]',\n",
       " '[Coca Cola]',\n",
       " '[Diet Coke]',\n",
       " '[Diet Coke]',\n",
       " '[Dr. Pepper]',\n",
       " '[Diet Coke]',\n",
       " '[Coke]',\n",
       " '[Diet Coke]',\n",
       " '[Diet Dr. Pepper]',\n",
       " '[Diet Coke]',\n",
       " '[Diet Coke]',\n",
       " '[Lemonade]',\n",
       " '[Lemonade]',\n",
       " '[Diet Coke]',\n",
       " '[Coke]',\n",
       " '[Diet Coke]',\n",
       " '[Sprite]',\n",
       " '[Coke]',\n",
       " '[Coke]',\n",
       " '[Diet Coke]',\n",
       " '[Coke]',\n",
       " '[Coke]',\n",
       " '[Lemonade]',\n",
       " '[Coke]',\n",
       " '[Diet Coke]',\n",
       " '[Coca Cola]',\n",
       " '[Diet Coke]',\n",
       " '[Diet Coke]',\n",
       " '[Diet Coke]',\n",
       " '[Sprite]',\n",
       " '[Sprite]',\n",
       " '[Diet Coke]',\n",
       " '[Diet Coke]',\n",
       " '[Coke]',\n",
       " '[Nestea]',\n",
       " '[Sprite]',\n",
       " '[Diet Coke]',\n",
       " '[Diet Coke]',\n",
       " '[Lemonade]',\n",
       " '[Mountain Dew]',\n",
       " '[Coke]',\n",
       " '[Sprite]',\n",
       " '[Diet Coke]',\n",
       " '[Coke]',\n",
       " '[Coke]',\n",
       " '[Lemonade]',\n",
       " '[Diet Coke]',\n",
       " '[Sprite]',\n",
       " '[Diet Coke]',\n",
       " '[Diet Coke]',\n",
       " '[Lemonade]',\n",
       " '[Diet Coke]',\n",
       " '[Sprite]',\n",
       " '[Lemonade]',\n",
       " '[Diet Coke]',\n",
       " '[Lemonade]',\n",
       " '[Sprite]',\n",
       " '[Diet Coke]',\n",
       " '[Coke]',\n",
       " '[Coke]',\n",
       " '[Coke]',\n",
       " '[Coke]',\n",
       " '[Sprite]',\n",
       " '[Diet Coke]',\n",
       " '[Diet Coke]',\n",
       " '[Sprite]',\n",
       " '[Coke]',\n",
       " '[Diet Coke]',\n",
       " '[Coke]',\n",
       " '[Lemonade]',\n",
       " '[Dr. Pepper]',\n",
       " '[Coca Cola]',\n",
       " '[Dr. Pepper]',\n",
       " '[Diet Coke]',\n",
       " '[Diet Coke]',\n",
       " '[Coke]',\n",
       " '[Coke]',\n",
       " '[Sprite]',\n",
       " '[Diet Coke]',\n",
       " '[Sprite]',\n",
       " '[Diet Coke]',\n",
       " '[Coke]',\n",
       " '[Diet Coke]',\n",
       " '[Diet Coke]',\n",
       " '[Sprite]',\n",
       " '[Diet Coke]',\n",
       " '[Sprite]',\n",
       " '[Mountain Dew]',\n",
       " '[Lemonade]',\n",
       " '[Sprite]',\n",
       " '[Nestea]',\n",
       " '[Diet Coke]',\n",
       " '[Lemonade]',\n",
       " '[Coke]',\n",
       " '[Coke]',\n",
       " '[Sprite]',\n",
       " '[Sprite]',\n",
       " '[Nestea]',\n",
       " '[Nestea]',\n",
       " '[Coke]',\n",
       " '[Sprite]',\n",
       " '[Coke]',\n",
       " '[Coke]',\n",
       " '[Diet Coke]',\n",
       " '[Coca Cola]',\n",
       " '[Coke]',\n",
       " '[Diet Coke]',\n",
       " '[Coca Cola]',\n",
       " '[Sprite]',\n",
       " '[Coca Cola]',\n",
       " '[Diet Coke]',\n",
       " '[Coke]',\n",
       " '[Diet Dr. Pepper]',\n",
       " '[Sprite]',\n",
       " '[Diet Coke]',\n",
       " '[Coke]',\n",
       " '[Coke]',\n",
       " '[Coke]',\n",
       " '[Coca Cola]',\n",
       " '[Mountain Dew]',\n",
       " '[Diet Coke]',\n",
       " '[Diet Coke]',\n",
       " '[Diet Coke]',\n",
       " '[Nestea]',\n",
       " '[Lemonade]',\n",
       " '[Sprite]',\n",
       " '[Diet Coke]',\n",
       " '[Nestea]',\n",
       " '[Diet Coke]',\n",
       " '[Sprite]',\n",
       " '[Sprite]',\n",
       " '[Coke]',\n",
       " '[Diet Dr. Pepper]',\n",
       " '[Coca Cola]',\n",
       " '[Coca Cola]',\n",
       " '[Diet Coke]',\n",
       " '[Diet Coke]',\n",
       " '[Sprite]',\n",
       " '[Coke]',\n",
       " '[Coke]',\n",
       " '[Coke]',\n",
       " '[Diet Coke]',\n",
       " '[Coca Cola]',\n",
       " '[Sprite]',\n",
       " '[Sprite]',\n",
       " '[Coke]',\n",
       " '[Diet Coke]',\n",
       " '[Sprite]',\n",
       " '[Coca Cola]',\n",
       " '[Diet Coke]',\n",
       " '[Diet Dr. Pepper]',\n",
       " '[Sprite]',\n",
       " '[Coke]',\n",
       " '[Dr. Pepper]',\n",
       " '[Diet Coke]',\n",
       " '[Diet Coke]',\n",
       " '[Coke]',\n",
       " '[Diet Dr. Pepper]',\n",
       " '[Dr. Pepper]',\n",
       " '[Diet Coke]',\n",
       " '[Coca Cola]',\n",
       " '[Coke]',\n",
       " '[Diet Coke]',\n",
       " '[Mountain Dew]',\n",
       " '[Coke]',\n",
       " '[Diet Coke]',\n",
       " '[Diet Coke]',\n",
       " '[Sprite]',\n",
       " '[Sprite]',\n",
       " '[Diet Coke]',\n",
       " '[Sprite]',\n",
       " '[Sprite]',\n",
       " '[Nestea]',\n",
       " '[Sprite]',\n",
       " '[Sprite]',\n",
       " '[Sprite]',\n",
       " '[Coca Cola]',\n",
       " '[Nestea]',\n",
       " '[Diet Coke]',\n",
       " '[Diet Coke]',\n",
       " '[Lemonade]',\n",
       " '[Nestea]',\n",
       " '[Coke]',\n",
       " '[Diet Coke]',\n",
       " '[Sprite]',\n",
       " '[Coke]',\n",
       " '[Coke]',\n",
       " '[Coca Cola]',\n",
       " '[Dr. Pepper]',\n",
       " '[Sprite]',\n",
       " '[Diet Coke]',\n",
       " '[Diet Coke]',\n",
       " '[Diet Dr. Pepper]',\n",
       " '[Coke]',\n",
       " '[Coke]',\n",
       " '[Sprite]',\n",
       " '[Dr. Pepper]',\n",
       " '[Coca Cola]',\n",
       " '[Diet Coke]',\n",
       " '[Diet Coke]',\n",
       " '[Diet Coke]',\n",
       " '[Sprite]',\n",
       " '[Coke]',\n",
       " '[Coca Cola]',\n",
       " '[Diet Coke]',\n",
       " '[Dr. Pepper]',\n",
       " '[Dr. Pepper]',\n",
       " '[Diet Dr. Pepper]',\n",
       " '[Lemonade]',\n",
       " '[Diet Coke]',\n",
       " '[Sprite]',\n",
       " '[Sprite]',\n",
       " '[Sprite]',\n",
       " '[Diet Coke]',\n",
       " '[Diet Coke]',\n",
       " '[Nestea]',\n",
       " '[Coke]',\n",
       " '[Mountain Dew]',\n",
       " '[Coke]',\n",
       " '[Mountain Dew]',\n",
       " '[Lemonade]',\n",
       " '[Dr. Pepper]',\n",
       " '[Diet Dr. Pepper]',\n",
       " '[Nestea]',\n",
       " '[Coke]',\n",
       " '[Coke]',\n",
       " '[Nestea]',\n",
       " '[Nestea]',\n",
       " '[Diet Coke]',\n",
       " '[Diet Coke]',\n",
       " '[Lemonade]',\n",
       " '[Coke]',\n",
       " '[Coke]',\n",
       " '[Diet Coke]',\n",
       " '[Sprite]',\n",
       " '[Coke]',\n",
       " '[Diet Coke]',\n",
       " '[Lemonade]',\n",
       " '[Coke]',\n",
       " '[Lemonade]',\n",
       " '[Sprite]',\n",
       " '[Lemonade]',\n",
       " '[Coke]',\n",
       " '[Nestea]',\n",
       " '[Coke]',\n",
       " '[Sprite]',\n",
       " '[Sprite]',\n",
       " '[Diet Coke]',\n",
       " '[Coke]',\n",
       " '[Sprite]',\n",
       " '[Coke]',\n",
       " '[Coke]',\n",
       " '[Coke]',\n",
       " '[Diet Coke]',\n",
       " '[Coke]',\n",
       " '[Diet Coke]',\n",
       " '[Coke]',\n",
       " '[Diet Coke]',\n",
       " '[Sprite]',\n",
       " '[Nestea]',\n",
       " '[Coke]',\n",
       " '[Coke]',\n",
       " '[Sprite]',\n",
       " '[Coke]',\n",
       " '[Coke]',\n",
       " '[Coke]',\n",
       " '[Lemonade]',\n",
       " '[Sprite]',\n",
       " '[Coke]',\n",
       " '[Coke]',\n",
       " '[Sprite]',\n",
       " '[Coke]',\n",
       " '[Diet Coke]',\n",
       " '[Coke]',\n",
       " '[Coke]',\n",
       " '[Lemonade]',\n",
       " '[Lemonade]',\n",
       " '[Diet Coke]',\n",
       " '[Diet Coke]',\n",
       " '[Coke]',\n",
       " '[Sprite]',\n",
       " '[Lemonade]',\n",
       " '[Sprite]',\n",
       " '[Coke]',\n",
       " '[Sprite]',\n",
       " '[Diet Coke]',\n",
       " '[Sprite]',\n",
       " '[Sprite]',\n",
       " '[Coke]',\n",
       " '[Diet Coke]',\n",
       " '[Sprite]',\n",
       " '[Coke]',\n",
       " '[Sprite]',\n",
       " '[Diet Coke]',\n",
       " '[Coke]',\n",
       " '[Diet Coke]',\n",
       " '[Nestea]',\n",
       " '[Diet Coke]',\n",
       " '[Coke]',\n",
       " '[Sprite]']"
      ]
     },
     "execution_count": 118,
     "metadata": {},
     "output_type": "execute_result"
    }
   ],
   "source": [
    "drinks = list()\n",
    "\n",
    "for i in data:\n",
    "    if i[2] == 'Canned Soda' or i[2] == 'Canned Soft Drink':\n",
    "        drinks.append(i[3])\n",
    "\n",
    "drinks"
   ]
  },
  {
   "cell_type": "code",
   "execution_count": 193,
   "metadata": {},
   "outputs": [
    {
     "data": {
      "text/plain": [
       "['[Sprite]',\n",
       " '[Dr. Pepper]',\n",
       " '[Mountain Dew]',\n",
       " '[Diet Dr. Pepper]',\n",
       " '[Coca Cola]',\n",
       " '[Diet Coke]',\n",
       " '[Coke]',\n",
       " '[Lemonade]',\n",
       " '[Nestea]']"
      ]
     },
     "execution_count": 193,
     "metadata": {},
     "output_type": "execute_result"
    }
   ],
   "source": [
    "unique_sodas = list()\n",
    "\n",
    "for i in drinks:\n",
    "    if i in unique_sodas:\n",
    "        pass\n",
    "    else:\n",
    "        unique_sodas.append(i)\n",
    "        \n",
    "unique_sodas"
   ]
  },
  {
   "cell_type": "markdown",
   "metadata": {},
   "source": [
    "---\n",
    "\n",
    "## Advanced Level\n"
   ]
  },
  {
   "cell_type": "markdown",
   "metadata": {},
   "source": [
    "### Part 5: Calculate the average number of toppings per burrito.\n",
    "\n",
    "Note: Let's ignore the `quantity` column to simplify this task.\n",
    "\n",
    "Hint: Think carefully about the easiest way to count the number of toppings!\n"
   ]
  },
  {
   "cell_type": "code",
   "execution_count": 157,
   "metadata": {},
   "outputs": [
    {
     "data": {
      "text/plain": [
       "5"
      ]
     },
     "execution_count": 157,
     "metadata": {},
     "output_type": "execute_result"
    }
   ],
   "source": [
    "# test to find number of ingredients\n",
    "len(data[83][3].split(','))"
   ]
  },
  {
   "cell_type": "code",
   "execution_count": 160,
   "metadata": {},
   "outputs": [
    {
     "name": "stdout",
     "output_type": "stream",
     "text": [
      "5.395051194539249\n"
     ]
    }
   ],
   "source": [
    "def av_toppings(dat):\n",
    "    burrito_cnter = 0\n",
    "    topping_cnter = 0\n",
    "    for i in dat:\n",
    "        if 'Burrito' in i[2]:\n",
    "            burrito_cnter += 1\n",
    "            topping_cnter += len(i[3].split(','))\n",
    "    print(topping_cnter / burrito_cnter)\n",
    "\n",
    "av_toppings(data)"
   ]
  },
  {
   "cell_type": "markdown",
   "metadata": {},
   "source": [
    "### Part 6: Create a dictionary. Let the keys represent chip orders and the values represent the total number of orders.\n",
    "\n",
    "Expected output: `{'Chips and Roasted Chili-Corn Salsa': 18, ... }`\n",
    "\n",
    "Note: Please take the `quantity` column into account!\n",
    "\n",
    "Optional: Learn how to use `.defaultdict()` to simplify your code."
   ]
  },
  {
   "cell_type": "code",
   "execution_count": 185,
   "metadata": {},
   "outputs": [
    {
     "data": {
      "text/plain": [
       "{'Chips and Fresh Tomato Salsa': 0,\n",
       " 'Izze': 0,\n",
       " 'Nantucket Nectar': 0,\n",
       " 'Chips and Tomatillo-Green Chili Salsa': 0,\n",
       " 'Chicken Bowl': 0,\n",
       " 'Side of Chips': 0,\n",
       " 'Steak Burrito': 0,\n",
       " 'Steak Soft Tacos': 0,\n",
       " 'Chips and Guacamole': 0,\n",
       " 'Chicken Crispy Tacos': 0,\n",
       " 'Chicken Soft Tacos': 0,\n",
       " 'Chicken Burrito': 0,\n",
       " 'Canned Soda': 0,\n",
       " 'Barbacoa Burrito': 0,\n",
       " 'Carnitas Burrito': 0,\n",
       " 'Carnitas Bowl': 0,\n",
       " 'Bottled Water': 0,\n",
       " 'Chips and Tomatillo Green Chili Salsa': 0,\n",
       " 'Barbacoa Bowl': 0,\n",
       " 'Chips': 0,\n",
       " 'Chicken Salad Bowl': 0,\n",
       " 'Steak Bowl': 0,\n",
       " 'Barbacoa Soft Tacos': 0,\n",
       " 'Veggie Burrito': 0,\n",
       " 'Veggie Bowl': 0,\n",
       " 'Steak Crispy Tacos': 0,\n",
       " 'Chips and Tomatillo Red Chili Salsa': 0,\n",
       " 'Barbacoa Crispy Tacos': 0,\n",
       " 'Veggie Salad Bowl': 0,\n",
       " 'Chips and Roasted Chili-Corn Salsa': 0,\n",
       " 'Chips and Roasted Chili Corn Salsa': 0,\n",
       " 'Carnitas Soft Tacos': 0,\n",
       " 'Chicken Salad': 0,\n",
       " 'Canned Soft Drink': 0,\n",
       " 'Steak Salad Bowl': 0,\n",
       " '6 Pack Soft Drink': 0,\n",
       " 'Chips and Tomatillo-Red Chili Salsa': 0,\n",
       " 'Bowl': 0,\n",
       " 'Burrito': 0,\n",
       " 'Crispy Tacos': 0,\n",
       " 'Carnitas Crispy Tacos': 0,\n",
       " 'Steak Salad': 0,\n",
       " 'Chips and Mild Fresh Tomato Salsa': 0,\n",
       " 'Veggie Soft Tacos': 0,\n",
       " 'Carnitas Salad Bowl': 0,\n",
       " 'Barbacoa Salad Bowl': 0,\n",
       " 'Salad': 0,\n",
       " 'Veggie Crispy Tacos': 0,\n",
       " 'Veggie Salad': 0,\n",
       " 'Carnitas Salad': 0}"
      ]
     },
     "execution_count": 185,
     "metadata": {},
     "output_type": "execute_result"
    }
   ],
   "source": [
    "# dict {key : val sum}\n",
    "# unique orders\n",
    "unique_orders = dict()\n",
    "\n",
    "for i in data:\n",
    "    if i[2] in unique_orders:\n",
    "        pass\n",
    "    else:\n",
    "        unique_orders.update({i[2] : 0})\n",
    "\n",
    "unique_orders"
   ]
  },
  {
   "cell_type": "code",
   "execution_count": 186,
   "metadata": {},
   "outputs": [
    {
     "ename": "SyntaxError",
     "evalue": "invalid syntax (<ipython-input-186-07f4ac7a1559>, line 5)",
     "output_type": "error",
     "traceback": [
      "\u001b[0;36m  File \u001b[0;32m\"<ipython-input-186-07f4ac7a1559>\"\u001b[0;36m, line \u001b[0;32m5\u001b[0m\n\u001b[0;31m    drug_dictionary.setdefault(key,[]).append(row[?])\u001b[0m\n\u001b[0m                                                  ^\u001b[0m\n\u001b[0;31mSyntaxError\u001b[0m\u001b[0;31m:\u001b[0m invalid syntax\n"
     ]
    }
   ],
   "source": [
    "import itertools\n",
    "def make_drug_dictionary(data):\n",
    "    drug_dictionary = {}\n",
    "    for key, row in itertools.groupby(data, lambda x: x[11]):\n",
    "        drug_dictionary.setdefault(key,[]).append(row[?])\n",
    "    return drug_dictionary"
   ]
  },
  {
   "cell_type": "code",
   "execution_count": null,
   "metadata": {
    "collapsed": true
   },
   "outputs": [],
   "source": []
  },
  {
   "cell_type": "code",
   "execution_count": null,
   "metadata": {
    "collapsed": true
   },
   "outputs": [],
   "source": []
  },
  {
   "cell_type": "markdown",
   "metadata": {},
   "source": [
    "---\n",
    "\n",
    "## Bonus: Craft a problem statement about this data that interests you, and then answer it!\n"
   ]
  },
  {
   "cell_type": "code",
   "execution_count": null,
   "metadata": {
    "collapsed": true
   },
   "outputs": [],
   "source": []
  },
  {
   "cell_type": "code",
   "execution_count": null,
   "metadata": {
    "collapsed": true
   },
   "outputs": [],
   "source": []
  },
  {
   "cell_type": "code",
   "execution_count": null,
   "metadata": {
    "collapsed": true
   },
   "outputs": [],
   "source": []
  },
  {
   "cell_type": "code",
   "execution_count": null,
   "metadata": {
    "collapsed": true
   },
   "outputs": [],
   "source": []
  }
 ],
 "metadata": {
  "anaconda-cloud": {},
  "kernelspec": {
   "display_name": "Python 3",
   "language": "python",
   "name": "python3"
  },
  "language_info": {
   "codemirror_mode": {
    "name": "ipython",
    "version": 3
   },
   "file_extension": ".py",
   "mimetype": "text/x-python",
   "name": "python",
   "nbconvert_exporter": "python",
   "pygments_lexer": "ipython3",
   "version": "3.7.4"
  }
 },
 "nbformat": 4,
 "nbformat_minor": 2
}
