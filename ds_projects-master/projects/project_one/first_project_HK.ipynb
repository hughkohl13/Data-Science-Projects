{
 "cells": [
  {
   "cell_type": "markdown",
   "metadata": {},
   "source": [
    "<img src=\"http://imgur.com/1ZcRyrc.png\" style=\"float: left; margin: 20px; height: 55px\">\n",
    "\n",
    "# Project 1: Python Coding Exercises\n",
    "\n",
    "_Authors: Joseph Nelson (DC) _\n",
    "\n",
    "---"
   ]
  },
  {
   "cell_type": "markdown",
   "metadata": {},
   "source": [
    "The following code challenges are drawn from common exercises used in technical interviews.\n",
    "\n",
    "Please note that there may be several ways to approach each challenge. If you get stuck, try mapping out your approach in pseudocode first. Finally, while solutions to problems like these may be found online, remember that if you copy/paste code that you can't explain, you'll be missing out on the point of the project. The only way to truly learn a new skill is through practice, trial, and error - we can only help you improve by understanding where you are having trouble."
   ]
  },
  {
   "cell_type": "markdown",
   "metadata": {},
   "source": [
    "### Challenge 1: Largest Palindrome\n",
    "A palindromic number reads the same both ways. For example, 1234321 is a palindrome. The largest palindrome made from the product of two two-digit numbers is 9009 = 91 × 99. Find the largest palindrome made from the product of two three-digit numbers. Afterward, write a brief explanation walking through your code's logic in markdown."
   ]
  },
  {
   "cell_type": "code",
   "execution_count": 1,
   "metadata": {},
   "outputs": [
    {
     "name": "stdout",
     "output_type": "stream",
     "text": [
      "906609\n",
      "--- 0.015474319458007812 seconds ---\n"
     ]
    }
   ],
   "source": [
    "import string\n",
    "import time\n",
    "start_time = time.time()\n",
    "\n",
    "# check if number is palindrome by reading in reverse\n",
    "def is_palindrome(sum_):\n",
    "    return str(sum_) == str(sum_)[::-1]\n",
    "\n",
    "# definition for largest palindrome takes in value to determine \n",
    "# number of digits of which to find the largest palindrome product\n",
    "def largest_palindrome(num_):\n",
    "    \n",
    "    # identify smallest and largest num_ digit multiplier for range\n",
    "    # Eg largest_palindrome(3) returns min_num = 100 and max_num = 999\n",
    "    min_num = (int('1' + '0' *(int(num_)-1)))\n",
    "    max_num = (int('1'+'0'* num_)-1)\n",
    "    \n",
    "    # palindrome value holder to be replaced with largest palindrome\n",
    "    max_palindrome = 1\n",
    "    \n",
    "    # run every value of y against every value of x using x as the counter\n",
    "    for x in range(max_num, min_num, -1):\n",
    "        for y in range(max_num, min_num, -1):\n",
    "            \n",
    "            # check if product is palindrome and replace with new palindrome if bigger\n",
    "            if is_palindrome(x*y) and x*y > max_palindrome:\n",
    "                max_palindrome = x*y\n",
    "            elif x * y < max_palindrome:\n",
    "                break\n",
    "                \n",
    "    return max_palindrome\n",
    "\n",
    "print(largest_palindrome(3))\n",
    "print(\"--- %s seconds ---\" % (time.time() - start_time))"
   ]
  },
  {
   "cell_type": "code",
   "execution_count": null,
   "metadata": {},
   "outputs": [],
   "source": [
    "\n"
   ]
  },
  {
   "cell_type": "markdown",
   "metadata": {},
   "source": [
    "\n",
    "### Challenge 2: Summation of Primes\n",
    "The sum of the primes below 10 is 2 + 3 + 5 + 7 = 17. Find the sum of all the primes below 2,000. Afterward, write a brief explanation walking through your code's logic in markdown."
   ]
  },
  {
   "cell_type": "code",
   "execution_count": 124,
   "metadata": {},
   "outputs": [
    {
     "data": {
      "text/plain": [
       "304"
      ]
     },
     "execution_count": 124,
     "metadata": {},
     "output_type": "execute_result"
    }
   ],
   "source": [
    "lower = 1\n",
    "upper = 2000\n",
    "\n",
    "prime_lst = []\n",
    "\n",
    "for num in range(lower, upper + 1):\n",
    "   # all prime numbers are greater than 1\n",
    "    if num > 0:\n",
    "        # Use range 2 to one less than the number itself because primes are only divisible by one and itself.\n",
    "        for i in range(2, num):\n",
    "            if (num % i) == 0:\n",
    "                break\n",
    "        else:\n",
    "            prime_lst.append(num)\n",
    "\n",
    "# sum the list of primes\n",
    "def sum_list(lst_): \n",
    "    result = 0\n",
    "    for num_ in prime_lst: \n",
    "         result+= num_  \n",
    "    return result  \n",
    " \n",
    "\n",
    "sum_list(prime_lst)\n",
    "len(prime_lst)"
   ]
  },
  {
   "cell_type": "code",
   "execution_count": null,
   "metadata": {},
   "outputs": [],
   "source": []
  },
  {
   "cell_type": "markdown",
   "metadata": {},
   "source": [
    "### Challenge 3: Multiples of 3 and 5\n",
    "If we list all of the natural numbers below 10 that are multiples of 3 or 5, we get 3, 5, 6, and 9. The sum of these multiples is 23. Find the sum of all the multiples of 3 and 5 below 1,000. Afterward, write a brief explanation walking through your code's logic in markdown."
   ]
  },
  {
   "cell_type": "code",
   "execution_count": 130,
   "metadata": {},
   "outputs": [
    {
     "data": {
      "text/plain": [
       "233168"
      ]
     },
     "execution_count": 130,
     "metadata": {},
     "output_type": "execute_result"
    }
   ],
   "source": [
    "lower = 1\n",
    "upper = 1000\n",
    "\n",
    "fizzbuzz_lst = []\n",
    "\n",
    "for num in range(lower, upper):\n",
    "    if num % 3 == 0 or num % 5 == 0:\n",
    "        fizzbuzz_lst.append(num)\n",
    "\n",
    "def sum_list(lst_): \n",
    "    result = 0\n",
    "    for num_ in fizzbuzz_lst: \n",
    "         result+= num_  \n",
    "    return result  \n",
    " \n",
    "\n",
    "sum_list(fizzbuzz_lst)"
   ]
  },
  {
   "cell_type": "markdown",
   "metadata": {},
   "source": [
    "### Challenge 4: String Compressor\n",
    "Implement a method to perform basic string compression using the counts of repeated characters. (This is called run-length encoding.) For example, the string \"aabcccccaaa\" would become a2b1c5a3. If the “compressed” string would not become smaller than the original string, your method should return the original string. You can assume the string has only uppercase and lowercase letters (a–z). Specify whether your solution is case sensitive or case insensitive and what you would need to change to make it the other. Afterward, write a brief explanation walking through your code's logic in markdown."
   ]
  },
  {
   "cell_type": "code",
   "execution_count": 22,
   "metadata": {},
   "outputs": [
    {
     "data": {
      "text/plain": [
       "'akddfkajlfliowaklcllakdj'"
      ]
     },
     "execution_count": 22,
     "metadata": {},
     "output_type": "execute_result"
    }
   ],
   "source": [
    "words = 'aabcccccaaa'\n",
    "words_2 = 'aaaaaaaabbbccccbabababccc'\n",
    "words_3 = 'akddfkajlfliowaklcllakdj'\n",
    "\n",
    "\n",
    "def string_compression(str_):\n",
    "    comp_str = \"\"\n",
    "    \n",
    "    cnter = 1\n",
    "    #check whether the character is equal to the next character.  If equal add 1 to the counter and add to the compressed string\n",
    "    for i in range(len(str_)-1):\n",
    "        if str_[i] == str_[i+1]:\n",
    "            cnter+=1\n",
    "        else:\n",
    "            comp_str+= str_[i] + str(cnter)\n",
    "            cnter = 1\n",
    "    comp_str += str_[i] + str(cnter)\n",
    "    \n",
    "    # Check if length of the compressed string is longer than original string. If not return original string\n",
    "    if len(comp_str) >= len(str_):\n",
    "        return str_\n",
    "    else:\n",
    "        return comp_str\n",
    "\n",
    "string_compression(words_3)\n"
   ]
  },
  {
   "cell_type": "code",
   "execution_count": null,
   "metadata": {},
   "outputs": [],
   "source": []
  },
  {
   "cell_type": "markdown",
   "metadata": {},
   "source": [
    "### *BONUS* Challenge: FizzBuzz\n",
    "Write a program that prints all of the numbers from 1 to 100. For multiples of 3, instead of the number, print \"Fizz;\" for multiples of 5, print \"Buzz.\" For numbers that are multiples of both 3 and 5, print \"FizzBuzz.\" Afterward, write a brief explanation walking through your code's logic in markdown."
   ]
  },
  {
   "cell_type": "code",
   "execution_count": null,
   "metadata": {},
   "outputs": [],
   "source": []
  }
 ],
 "metadata": {
  "anaconda-cloud": {},
  "kernelspec": {
   "display_name": "Python 3",
   "language": "python",
   "name": "python3"
  },
  "language_info": {
   "codemirror_mode": {
    "name": "ipython",
    "version": 3
   },
   "file_extension": ".py",
   "mimetype": "text/x-python",
   "name": "python",
   "nbconvert_exporter": "python",
   "pygments_lexer": "ipython3",
   "version": "3.7.4"
  }
 },
 "nbformat": 4,
 "nbformat_minor": 2
}
